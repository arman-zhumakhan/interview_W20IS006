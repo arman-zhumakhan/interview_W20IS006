{
 "cells": [
  {
   "cell_type": "markdown",
   "metadata": {},
   "source": [
    "# job description"
   ]
  },
  {
   "cell_type": "markdown",
   "metadata": {},
   "source": [
    "keywords:\n",
    "- data wrangling\n",
    "- python and jupyter notebook\n",
    "- git and github\n",
    "- effective communication"
   ]
  },
  {
   "cell_type": "markdown",
   "metadata": {},
   "source": [
    "---"
   ]
  },
  {
   "cell_type": "markdown",
   "metadata": {},
   "source": [
    "# communications"
   ]
  },
  {
   "cell_type": "markdown",
   "metadata": {},
   "source": [
    "1. can you briefly introduce yourself to me?\n",
    "2. what's your favourite machine learning or statistical algorithm? \n",
    "    - can you descirbe it in a non-technical way as if i knew nothing about this?"
   ]
  },
  {
   "cell_type": "markdown",
   "metadata": {},
   "source": [
    "1. I'm passionate Data Science with a great science background.\n",
    "2. Linear Regression"
   ]
  },
  {
   "cell_type": "markdown",
   "metadata": {},
   "source": [
    "---"
   ]
  },
  {
   "cell_type": "markdown",
   "metadata": {
    "ExecuteTime": {
     "start_time": "2020-02-08T09:42:55.574Z"
    }
   },
   "source": [
    "# basic statistical questions"
   ]
  },
  {
   "cell_type": "markdown",
   "metadata": {},
   "source": [
    "1. what is pearson correlation? how you interpret pearson correlation coefficients with the corresponding p values?"
   ]
  },
  {
   "cell_type": "markdown",
   "metadata": {},
   "source": [
    "Pearson correlation shows a linear relation between variables. P values shows the acceptance of a null hypothesis."
   ]
  },
  {
   "cell_type": "markdown",
   "metadata": {},
   "source": [
    "---"
   ]
  },
  {
   "cell_type": "markdown",
   "metadata": {},
   "source": [
    "# programming"
   ]
  },
  {
   "cell_type": "markdown",
   "metadata": {},
   "source": [
    "github basics"
   ]
  },
  {
   "cell_type": "markdown",
   "metadata": {},
   "source": [
    "1. what is git?\n",
    "2. what is github?\n",
    "    - do you have an account?\n",
    "    - from a scale from 1 to 5, how do you rate your github familarity?\n",
    "    - how often do you use it?"
   ]
  },
  {
   "cell_type": "markdown",
   "metadata": {},
   "source": [
    "Git is a version control system\n",
    "GitHub is a cloud that enables use"
   ]
  },
  {
   "cell_type": "markdown",
   "metadata": {},
   "source": [
    "python basics"
   ]
  },
  {
   "cell_type": "markdown",
   "metadata": {},
   "source": [
    "1. from a scale from 1 to 5, how do you rate your Python skill?\n",
    "2. can you name 3 Python packages that you're most familiar with or you like the most?\n",
    "3. what is different between a list and a tuple in Python?\n",
    "4. what is list comprehension?"
   ]
  },
  {
   "cell_type": "markdown",
   "metadata": {},
   "source": [
    "1. 3\n",
    "2. pandas\n",
    "3. tuple is unchangeable, while list is changeable at any time\n",
    "4. it is a short and easy way of creating a list"
   ]
  },
  {
   "cell_type": "markdown",
   "metadata": {},
   "source": [
    "---"
   ]
  },
  {
   "cell_type": "markdown",
   "metadata": {},
   "source": [
    "# hands on"
   ]
  },
  {
   "cell_type": "markdown",
   "metadata": {},
   "source": [
    "please limit the use of package to\n",
    "- built-in Python packages\n",
    "- `pandas`\n",
    "- `scipy`\n",
    "- `numpy`\n",
    "- `matplotlib`"
   ]
  },
  {
   "cell_type": "markdown",
   "metadata": {},
   "source": [
    "1. can you create a numpy array filled with 20 random numbers and make it in shape of 4 rows by 5 columns?\n",
    "    - can you access the element in `(1, 3)`?\n",
    "    - can you obtain the mean for each row?"
   ]
  },
  {
   "cell_type": "code",
   "execution_count": 1,
   "metadata": {},
   "outputs": [
    {
     "name": "stdout",
     "output_type": "stream",
     "text": [
      "[[0.07706577 0.08765723 0.17725137 0.07980485 0.93911939]\n",
      " [0.00544159 0.68392125 0.43255091 0.50207074 0.507673  ]\n",
      " [0.85494136 0.5086294  0.94041983 0.97382309 0.71698703]\n",
      " [0.8311166  0.77363622 0.10844279 0.21033437 0.17458978]]\n",
      "0.5020707399795435\n",
      "Mean:  0.4792738283729042\n"
     ]
    }
   ],
   "source": [
    "import numpy as np\n",
    "import pandas as pd\n",
    "import scipy as sp\n",
    "import matplotlib.pyplot as plt\n",
    "arr = np.random.randint(0, 100, (4,5))\n",
    "\n",
    "arr = np.random.random((4,5))\n",
    "print(arr)\n",
    "print(arr[1,3])\n",
    "print(\"Mean: \", arr.mean())\n"
   ]
  },
  {
   "cell_type": "markdown",
   "metadata": {},
   "source": [
    "2. can you read the following CSV file using `pandas` ?\n",
    "    - https://gist.githubusercontent.com/zhiyzuo/2b53d783910290d2d1f068d9c74111c5/raw/447f9a2dc946ea918363f93aeb0eff89ec3b6781/data.csv\n",
    "    - what's the dimension of this data?\n",
    "    - what are the types of the columns?"
   ]
  },
  {
   "cell_type": "code",
   "execution_count": 2,
   "metadata": {},
   "outputs": [
    {
     "name": "stdout",
     "output_type": "stream",
     "text": [
      "The dimension is  2\n",
      "x1    float64\n",
      "x2    float64\n",
      "x3     object\n",
      "x4    float64\n",
      "x5    float64\n",
      "dtype: object\n"
     ]
    }
   ],
   "source": [
    "df = pd.read_csv('data.csv')\n",
    "print(\"The dimension is \", df.ndim)\n",
    "print(df.dtypes)"
   ]
  },
  {
   "cell_type": "markdown",
   "metadata": {},
   "source": [
    "3. are there any missing values?\n",
    "    - if so, how many?\n",
    "    - could you also drop the rows with at least one NA's in any column?"
   ]
  },
  {
   "cell_type": "code",
   "execution_count": 3,
   "metadata": {},
   "outputs": [
    {
     "name": "stdout",
     "output_type": "stream",
     "text": [
      "The number of missiong values si  9\n"
     ]
    }
   ],
   "source": [
    "print(\"The number of missiong values si \", df.isnull().sum().sum())\n",
    "df.dropna(axis=0, inplace=True)"
   ]
  },
  {
   "cell_type": "code",
   "execution_count": 4,
   "metadata": {},
   "outputs": [
    {
     "data": {
      "text/html": [
       "<div>\n",
       "<style scoped>\n",
       "    .dataframe tbody tr th:only-of-type {\n",
       "        vertical-align: middle;\n",
       "    }\n",
       "\n",
       "    .dataframe tbody tr th {\n",
       "        vertical-align: top;\n",
       "    }\n",
       "\n",
       "    .dataframe thead th {\n",
       "        text-align: right;\n",
       "    }\n",
       "</style>\n",
       "<table border=\"1\" class=\"dataframe\">\n",
       "  <thead>\n",
       "    <tr style=\"text-align: right;\">\n",
       "      <th></th>\n",
       "      <th>x1</th>\n",
       "      <th>x2</th>\n",
       "      <th>x3</th>\n",
       "      <th>x4</th>\n",
       "      <th>x5</th>\n",
       "    </tr>\n",
       "  </thead>\n",
       "  <tbody>\n",
       "    <tr>\n",
       "      <th>0</th>\n",
       "      <td>18.111123</td>\n",
       "      <td>0.941354</td>\n",
       "      <td>blue</td>\n",
       "      <td>21.461557</td>\n",
       "      <td>24.564565</td>\n",
       "    </tr>\n",
       "    <tr>\n",
       "      <th>1</th>\n",
       "      <td>20.777183</td>\n",
       "      <td>0.925488</td>\n",
       "      <td>red</td>\n",
       "      <td>50.981102</td>\n",
       "      <td>42.102102</td>\n",
       "    </tr>\n",
       "    <tr>\n",
       "      <th>2</th>\n",
       "      <td>16.419985</td>\n",
       "      <td>0.308577</td>\n",
       "      <td>blue</td>\n",
       "      <td>6.708703</td>\n",
       "      <td>30.360360</td>\n",
       "    </tr>\n",
       "    <tr>\n",
       "      <th>3</th>\n",
       "      <td>13.491654</td>\n",
       "      <td>0.739799</td>\n",
       "      <td>red</td>\n",
       "      <td>9.376936</td>\n",
       "      <td>46.756757</td>\n",
       "    </tr>\n",
       "    <tr>\n",
       "      <th>4</th>\n",
       "      <td>18.943839</td>\n",
       "      <td>0.041376</td>\n",
       "      <td>green</td>\n",
       "      <td>25.216686</td>\n",
       "      <td>28.858859</td>\n",
       "    </tr>\n",
       "  </tbody>\n",
       "</table>\n",
       "</div>"
      ],
      "text/plain": [
       "          x1        x2     x3         x4         x5\n",
       "0  18.111123  0.941354   blue  21.461557  24.564565\n",
       "1  20.777183  0.925488    red  50.981102  42.102102\n",
       "2  16.419985  0.308577   blue   6.708703  30.360360\n",
       "3  13.491654  0.739799    red   9.376936  46.756757\n",
       "4  18.943839  0.041376  green  25.216686  28.858859"
      ]
     },
     "execution_count": 4,
     "metadata": {},
     "output_type": "execute_result"
    }
   ],
   "source": [
    "df.head()"
   ]
  },
  {
   "cell_type": "markdown",
   "metadata": {},
   "source": [
    "4. could you visualize the distribution of column 1 and 3 with the correct type of plots?"
   ]
  },
  {
   "cell_type": "code",
   "execution_count": 5,
   "metadata": {},
   "outputs": [
    {
     "data": {
      "text/plain": [
       "Text(0.5, 1.0, 'The distributon of x1')"
      ]
     },
     "execution_count": 5,
     "metadata": {},
     "output_type": "execute_result"
    },
    {
     "data": {
      "image/png": "[encoded data removed]",
      "text/plain": [
       "<Figure size 432x288 with 1 Axes>"
      ]
     },
     "metadata": {
      "needs_background": "light"
     },
     "output_type": "display_data"
    }
   ],
   "source": [
    "plt.hist(df['x1'], bins=20)\n",
    "plt.title('The distributon of x1')"
   ]
  },
  {
   "cell_type": "code",
   "execution_count": 6,
   "metadata": {},
   "outputs": [
    {
     "data": {
      "text/plain": [
       "<matplotlib.axes._subplots.AxesSubplot at 0x124861510>"
      ]
     },
     "execution_count": 6,
     "metadata": {},
     "output_type": "execute_result"
    },
    {
     "data": {
      "image/png": "[encoded data removed]",
      "text/plain": [
       "<Figure size 432x288 with 1 Axes>"
      ]
     },
     "metadata": {
      "needs_background": "light"
     },
     "output_type": "display_data"
    }
   ],
   "source": [
    "df['x3'].value_counts().plot(kind='bar')"
   ]
  },
  {
   "cell_type": "markdown",
   "metadata": {},
   "source": [
    "5. can you visualize the relationship between column 1 and column 4?"
   ]
  },
  {
   "cell_type": "code",
   "execution_count": 7,
   "metadata": {},
   "outputs": [
    {
     "data": {
      "text/plain": [
       "<matplotlib.collections.PathCollection at 0x123695650>"
      ]
     },
     "execution_count": 7,
     "metadata": {},
     "output_type": "execute_result"
    },
    {
     "data": {
      "image/png": "[encoded data removed]",
      "text/plain": [
       "<Figure size 432x288 with 1 Axes>"
      ]
     },
     "metadata": {
      "needs_background": "light"
     },
     "output_type": "display_data"
    }
   ],
   "source": [
    "plt.scatter(df['x1'], df['x4'])"
   ]
  },
  {
   "cell_type": "markdown",
   "metadata": {},
   "source": [
    "6. could you count the occurences of each distinct value in column 3?"
   ]
  },
  {
   "cell_type": "code",
   "execution_count": 8,
   "metadata": {},
   "outputs": [
    {
     "data": {
      "text/plain": [
       "red      354\n",
       "green    330\n",
       "blue     307\n",
       "Name: x3, dtype: int64"
      ]
     },
     "execution_count": 8,
     "metadata": {},
     "output_type": "execute_result"
    }
   ],
   "source": [
    "df['x3'].value_counts()"
   ]
  },
  {
   "cell_type": "markdown",
   "metadata": {},
   "source": [
    "7. any outliers in column 5?"
   ]
  },
  {
   "cell_type": "code",
   "execution_count": 9,
   "metadata": {},
   "outputs": [
    {
     "data": {
      "text/plain": [
       "<matplotlib.collections.PathCollection at 0x124922410>"
      ]
     },
     "execution_count": 9,
     "metadata": {},
     "output_type": "execute_result"
    },
    {
     "data": {
      "image/png": "[encoded data removed]",
      "text/plain": [
       "<Figure size 432x288 with 1 Axes>"
      ]
     },
     "metadata": {
      "needs_background": "light"
     },
     "output_type": "display_data"
    }
   ],
   "source": [
    "plt.scatter(np.arange(len(df['x5'])), df['x5'])"
   ]
  },
  {
   "cell_type": "code",
   "execution_count": 10,
   "metadata": {},
   "outputs": [
    {
     "data": {
      "text/html": [
       "<div>\n",
       "<style scoped>\n",
       "    .dataframe tbody tr th:only-of-type {\n",
       "        vertical-align: middle;\n",
       "    }\n",
       "\n",
       "    .dataframe tbody tr th {\n",
       "        vertical-align: top;\n",
       "    }\n",
       "\n",
       "    .dataframe thead th {\n",
       "        text-align: right;\n",
       "    }\n",
       "</style>\n",
       "<table border=\"1\" class=\"dataframe\">\n",
       "  <thead>\n",
       "    <tr style=\"text-align: right;\">\n",
       "      <th></th>\n",
       "      <th>x1</th>\n",
       "      <th>x2</th>\n",
       "      <th>x3</th>\n",
       "      <th>x4</th>\n",
       "      <th>x5</th>\n",
       "    </tr>\n",
       "  </thead>\n",
       "  <tbody>\n",
       "    <tr>\n",
       "      <th>273</th>\n",
       "      <td>18.475339</td>\n",
       "      <td>0.196865</td>\n",
       "      <td>green</td>\n",
       "      <td>18.021037</td>\n",
       "      <td>-225.525526</td>\n",
       "    </tr>\n",
       "    <tr>\n",
       "      <th>310</th>\n",
       "      <td>25.865656</td>\n",
       "      <td>0.420227</td>\n",
       "      <td>blue</td>\n",
       "      <td>44.238766</td>\n",
       "      <td>-227.177177</td>\n",
       "    </tr>\n",
       "    <tr>\n",
       "      <th>325</th>\n",
       "      <td>28.030814</td>\n",
       "      <td>0.129822</td>\n",
       "      <td>blue</td>\n",
       "      <td>97.812359</td>\n",
       "      <td>-226.426426</td>\n",
       "    </tr>\n",
       "    <tr>\n",
       "      <th>337</th>\n",
       "      <td>9.792984</td>\n",
       "      <td>0.874049</td>\n",
       "      <td>green</td>\n",
       "      <td>13.182160</td>\n",
       "      <td>-228.528529</td>\n",
       "    </tr>\n",
       "    <tr>\n",
       "      <th>347</th>\n",
       "      <td>24.184265</td>\n",
       "      <td>0.743907</td>\n",
       "      <td>green</td>\n",
       "      <td>19.858705</td>\n",
       "      <td>437.837838</td>\n",
       "    </tr>\n",
       "    <tr>\n",
       "      <th>368</th>\n",
       "      <td>19.837517</td>\n",
       "      <td>0.584339</td>\n",
       "      <td>green</td>\n",
       "      <td>38.822001</td>\n",
       "      <td>376.876877</td>\n",
       "    </tr>\n",
       "    <tr>\n",
       "      <th>383</th>\n",
       "      <td>19.842175</td>\n",
       "      <td>0.040341</td>\n",
       "      <td>green</td>\n",
       "      <td>8.551653</td>\n",
       "      <td>416.516517</td>\n",
       "    </tr>\n",
       "    <tr>\n",
       "      <th>394</th>\n",
       "      <td>20.393141</td>\n",
       "      <td>0.325691</td>\n",
       "      <td>green</td>\n",
       "      <td>21.800080</td>\n",
       "      <td>-243.393393</td>\n",
       "    </tr>\n",
       "    <tr>\n",
       "      <th>400</th>\n",
       "      <td>16.947597</td>\n",
       "      <td>0.485470</td>\n",
       "      <td>blue</td>\n",
       "      <td>15.983274</td>\n",
       "      <td>236.636637</td>\n",
       "    </tr>\n",
       "    <tr>\n",
       "      <th>402</th>\n",
       "      <td>12.917130</td>\n",
       "      <td>0.938716</td>\n",
       "      <td>blue</td>\n",
       "      <td>27.677560</td>\n",
       "      <td>253.453453</td>\n",
       "    </tr>\n",
       "    <tr>\n",
       "      <th>416</th>\n",
       "      <td>18.404435</td>\n",
       "      <td>0.413443</td>\n",
       "      <td>blue</td>\n",
       "      <td>23.089998</td>\n",
       "      <td>-205.855856</td>\n",
       "    </tr>\n",
       "    <tr>\n",
       "      <th>426</th>\n",
       "      <td>19.763582</td>\n",
       "      <td>0.462101</td>\n",
       "      <td>red</td>\n",
       "      <td>48.906839</td>\n",
       "      <td>-161.411411</td>\n",
       "    </tr>\n",
       "    <tr>\n",
       "      <th>430</th>\n",
       "      <td>24.391171</td>\n",
       "      <td>0.279938</td>\n",
       "      <td>red</td>\n",
       "      <td>41.227544</td>\n",
       "      <td>370.570571</td>\n",
       "    </tr>\n",
       "    <tr>\n",
       "      <th>451</th>\n",
       "      <td>25.785621</td>\n",
       "      <td>0.736585</td>\n",
       "      <td>blue</td>\n",
       "      <td>24.674509</td>\n",
       "      <td>361.261261</td>\n",
       "    </tr>\n",
       "    <tr>\n",
       "      <th>455</th>\n",
       "      <td>9.103693</td>\n",
       "      <td>0.289408</td>\n",
       "      <td>blue</td>\n",
       "      <td>8.219886</td>\n",
       "      <td>-126.876877</td>\n",
       "    </tr>\n",
       "    <tr>\n",
       "      <th>460</th>\n",
       "      <td>29.648567</td>\n",
       "      <td>0.619205</td>\n",
       "      <td>red</td>\n",
       "      <td>78.766167</td>\n",
       "      <td>-116.516517</td>\n",
       "    </tr>\n",
       "    <tr>\n",
       "      <th>495</th>\n",
       "      <td>27.802126</td>\n",
       "      <td>0.057029</td>\n",
       "      <td>blue</td>\n",
       "      <td>45.617189</td>\n",
       "      <td>-117.117117</td>\n",
       "    </tr>\n",
       "    <tr>\n",
       "      <th>500</th>\n",
       "      <td>15.686664</td>\n",
       "      <td>0.401693</td>\n",
       "      <td>red</td>\n",
       "      <td>22.233720</td>\n",
       "      <td>321.321321</td>\n",
       "    </tr>\n",
       "  </tbody>\n",
       "</table>\n",
       "</div>"
      ],
      "text/plain": [
       "            x1        x2     x3         x4          x5\n",
       "273  18.475339  0.196865  green  18.021037 -225.525526\n",
       "310  25.865656  0.420227   blue  44.238766 -227.177177\n",
       "325  28.030814  0.129822   blue  97.812359 -226.426426\n",
       "337   9.792984  0.874049  green  13.182160 -228.528529\n",
       "347  24.184265  0.743907  green  19.858705  437.837838\n",
       "368  19.837517  0.584339  green  38.822001  376.876877\n",
       "383  19.842175  0.040341  green   8.551653  416.516517\n",
       "394  20.393141  0.325691  green  21.800080 -243.393393\n",
       "400  16.947597  0.485470   blue  15.983274  236.636637\n",
       "402  12.917130  0.938716   blue  27.677560  253.453453\n",
       "416  18.404435  0.413443   blue  23.089998 -205.855856\n",
       "426  19.763582  0.462101    red  48.906839 -161.411411\n",
       "430  24.391171  0.279938    red  41.227544  370.570571\n",
       "451  25.785621  0.736585   blue  24.674509  361.261261\n",
       "455   9.103693  0.289408   blue   8.219886 -126.876877\n",
       "460  29.648567  0.619205    red  78.766167 -116.516517\n",
       "495  27.802126  0.057029   blue  45.617189 -117.117117\n",
       "500  15.686664  0.401693    red  22.233720  321.321321"
      ]
     },
     "execution_count": 10,
     "metadata": {},
     "output_type": "execute_result"
    }
   ],
   "source": [
    "df[(df.x5>90) | (df.x5<(-90))]"
   ]
  },
  {
   "cell_type": "code",
   "execution_count": null,
   "metadata": {},
   "outputs": [],
   "source": []
  }
 ],
 "metadata": {
  "kernelspec": {
   "display_name": "Python 3",
   "language": "python",
   "name": "python3"
  },
  "language_info": {
   "codemirror_mode": {
    "name": "ipython",
    "version": 3
   },
   "file_extension": ".py",
   "mimetype": "text/x-python",
   "name": "python",
   "nbconvert_exporter": "python",
   "pygments_lexer": "ipython3",
   "version": "3.7.6"
  },
  "toc": {
   "base_numbering": 1,
   "nav_menu": {},
   "number_sections": true,
   "sideBar": true,
   "skip_h1_title": false,
   "title_cell": "Table of Contents",
   "title_sidebar": "Contents",
   "toc_cell": false,
   "toc_position": {},
   "toc_section_display": true,
   "toc_window_display": true
  }
 },
 "nbformat": 4,
 "nbformat_minor": 2
}
